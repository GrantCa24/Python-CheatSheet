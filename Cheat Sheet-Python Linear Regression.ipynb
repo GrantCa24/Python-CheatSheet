{
 "cells": [
  {
   "cell_type": "markdown",
   "id": "3c15fd1a-83eb-427d-88e9-63022392c3d7",
   "metadata": {},
   "source": []
  },
  {
   "cell_type": "markdown",
   "id": "c8fa5023-da80-4ef4-aa65-fdc95af3ce59",
   "metadata": {},
   "source": [
    "## Load the dataset"
   ]
  },
  {
   "cell_type": "code",
   "execution_count": 35,
   "id": "207195c3-84a9-4795-aaeb-09bbb7ad3afd",
   "metadata": {
    "tags": []
   },
   "outputs": [],
   "source": [
    "import pandas as pd"
   ]
  },
  {
   "cell_type": "code",
   "execution_count": 62,
   "id": "89b558ab-05da-40e6-b6cd-ddf5689cf7c3",
   "metadata": {
    "tags": []
   },
   "outputs": [
    {
     "data": {
      "text/html": [
       "<div>\n",
       "<style scoped>\n",
       "    .dataframe tbody tr th:only-of-type {\n",
       "        vertical-align: middle;\n",
       "    }\n",
       "\n",
       "    .dataframe tbody tr th {\n",
       "        vertical-align: top;\n",
       "    }\n",
       "\n",
       "    .dataframe thead th {\n",
       "        text-align: right;\n",
       "    }\n",
       "</style>\n",
       "<table border=\"1\" class=\"dataframe\">\n",
       "  <thead>\n",
       "    <tr style=\"text-align: right;\">\n",
       "      <th></th>\n",
       "      <th>total_bill</th>\n",
       "      <th>tip</th>\n",
       "      <th>sex</th>\n",
       "      <th>smoker</th>\n",
       "      <th>day</th>\n",
       "      <th>time</th>\n",
       "      <th>size</th>\n",
       "    </tr>\n",
       "  </thead>\n",
       "  <tbody>\n",
       "    <tr>\n",
       "      <th>0</th>\n",
       "      <td>16.99</td>\n",
       "      <td>1.01</td>\n",
       "      <td>Female</td>\n",
       "      <td>No</td>\n",
       "      <td>Sun</td>\n",
       "      <td>Dinner</td>\n",
       "      <td>2</td>\n",
       "    </tr>\n",
       "    <tr>\n",
       "      <th>1</th>\n",
       "      <td>10.34</td>\n",
       "      <td>1.66</td>\n",
       "      <td>Male</td>\n",
       "      <td>No</td>\n",
       "      <td>Sun</td>\n",
       "      <td>Dinner</td>\n",
       "      <td>3</td>\n",
       "    </tr>\n",
       "    <tr>\n",
       "      <th>2</th>\n",
       "      <td>21.01</td>\n",
       "      <td>3.50</td>\n",
       "      <td>Male</td>\n",
       "      <td>No</td>\n",
       "      <td>Sun</td>\n",
       "      <td>Dinner</td>\n",
       "      <td>3</td>\n",
       "    </tr>\n",
       "    <tr>\n",
       "      <th>3</th>\n",
       "      <td>23.68</td>\n",
       "      <td>3.31</td>\n",
       "      <td>Male</td>\n",
       "      <td>No</td>\n",
       "      <td>Sun</td>\n",
       "      <td>Dinner</td>\n",
       "      <td>2</td>\n",
       "    </tr>\n",
       "    <tr>\n",
       "      <th>4</th>\n",
       "      <td>24.59</td>\n",
       "      <td>3.61</td>\n",
       "      <td>Female</td>\n",
       "      <td>No</td>\n",
       "      <td>Sun</td>\n",
       "      <td>Dinner</td>\n",
       "      <td>4</td>\n",
       "    </tr>\n",
       "  </tbody>\n",
       "</table>\n",
       "</div>"
      ],
      "text/plain": [
       "   total_bill   tip     sex smoker  day    time  size\n",
       "0       16.99  1.01  Female     No  Sun  Dinner     2\n",
       "1       10.34  1.66    Male     No  Sun  Dinner     3\n",
       "2       21.01  3.50    Male     No  Sun  Dinner     3\n",
       "3       23.68  3.31    Male     No  Sun  Dinner     2\n",
       "4       24.59  3.61  Female     No  Sun  Dinner     4"
      ]
     },
     "execution_count": 62,
     "metadata": {},
     "output_type": "execute_result"
    }
   ],
   "source": [
    "tips = pd.read_csv('tips.csv')\n",
    "tips.head()"
   ]
  },
  {
   "cell_type": "markdown",
   "id": "2d5be698-929c-4993-bdc7-e3387aaa4cba",
   "metadata": {},
   "source": [
    "### Data Cleaning"
   ]
  },
  {
   "cell_type": "code",
   "execution_count": 48,
   "id": "6075d401-562e-479e-864f-3e268467d15c",
   "metadata": {
    "tags": []
   },
   "outputs": [
    {
     "data": {
      "text/plain": [
       "total_bill    0\n",
       "tip           0\n",
       "sex           0\n",
       "smoker        0\n",
       "day           0\n",
       "time          0\n",
       "size          0\n",
       "dtype: int64"
      ]
     },
     "execution_count": 48,
     "metadata": {},
     "output_type": "execute_result"
    }
   ],
   "source": [
    "tips.isnull().sum()"
   ]
  },
  {
   "cell_type": "code",
   "execution_count": 72,
   "id": "1eeb04ad-1754-42ef-9427-e86767e0a0af",
   "metadata": {
    "tags": []
   },
   "outputs": [
    {
     "name": "stdout",
     "output_type": "stream",
     "text": [
      "rows: 244, columns: 7\n"
     ]
    }
   ],
   "source": [
    "rows, columns = tips.shape\n",
    "print(f\"rows: {rows}, columns: {columns}\")"
   ]
  },
  {
   "cell_type": "code",
   "execution_count": 92,
   "id": "8476e823-9895-4fe8-89bf-32942433ca07",
   "metadata": {
    "tags": []
   },
   "outputs": [
    {
     "name": "stdout",
     "output_type": "stream",
     "text": [
      "total_bill :  [16.99 10.34 21.01 23.68 24.59 25.29  8.77 26.88 15.04 14.78 10.27 35.26\n",
      " 15.42 18.43 14.83 21.58 10.33 16.29 16.97 20.65 17.92 20.29 15.77 39.42\n",
      " 19.82 17.81 13.37 12.69 21.7  19.65  9.55 18.35 15.06 20.69 17.78 24.06\n",
      " 16.31 16.93 18.69 31.27 16.04 17.46 13.94  9.68 30.4  18.29 22.23 32.4\n",
      " 28.55 18.04 12.54 10.29 34.81  9.94 25.56 19.49 38.01 26.41 11.24 48.27\n",
      " 13.81 11.02 17.59 20.08 16.45  3.07 20.23 15.01 12.02 17.07 26.86 25.28\n",
      " 14.73 10.51 27.2  22.76 17.29 19.44 16.66 10.07 32.68 15.98 34.83 13.03\n",
      " 18.28 24.71 21.16 28.97 22.49  5.75 16.32 22.75 40.17 27.28 12.03 12.46\n",
      " 11.35 15.38 44.3  22.42 20.92 15.36 20.49 25.21 18.24 14.31 14.    7.25\n",
      " 38.07 23.95 25.71 17.31 29.93 10.65 12.43 24.08 11.69 13.42 14.26 15.95\n",
      " 12.48 29.8   8.52 14.52 11.38 22.82 19.08 20.27 11.17 12.26 18.26  8.51\n",
      " 14.15 16.   13.16 17.47 34.3  41.19 27.05 16.43  8.35 18.64 11.87  9.78\n",
      "  7.51 14.07 13.13 17.26 24.55 19.77 29.85 48.17 25.   13.39 16.49 21.5\n",
      " 12.66 16.21 17.51 24.52 20.76 31.71 10.59 10.63 50.81 15.81 31.85 16.82\n",
      " 32.9  17.89 14.48  9.6  34.63 34.65 23.33 45.35 23.17 40.55 20.9  30.46\n",
      " 18.15 23.1  15.69 19.81 28.44 15.48 16.58  7.56 43.11 13.   13.51 18.71\n",
      " 12.74 16.4  20.53 16.47 26.59 38.73 24.27 12.76 30.06 25.89 48.33 13.27\n",
      " 28.17 12.9  28.15 11.59  7.74 30.14 12.16  8.58 16.27 10.09 20.45 13.28\n",
      " 22.12 24.01 11.61 10.77 15.53 12.6  32.83 35.83 29.03 27.18 22.67 17.82\n",
      " 18.78]\n",
      "tip :  [ 1.01  1.66  3.5   3.31  3.61  4.71  2.    3.12  1.96  3.23  1.71  5.\n",
      "  1.57  3.    3.02  3.92  1.67  3.71  3.35  4.08  2.75  2.23  7.58  3.18\n",
      "  2.34  4.3   1.45  2.5   2.45  3.27  3.6   3.07  2.31  2.24  2.54  3.06\n",
      "  1.32  5.6   6.    2.05  2.6   5.2   1.56  4.34  3.51  1.5   1.76  6.73\n",
      "  3.21  1.98  3.76  2.64  3.15  2.47  1.    2.01  2.09  1.97  3.14  2.2\n",
      "  1.25  3.08  4.    2.71  3.4   1.83  2.03  5.17  5.85  3.25  4.73  3.48\n",
      "  1.64  4.06  4.29  2.55  5.07  1.8   2.92  1.68  2.52  4.2   1.48  2.18\n",
      "  2.83  6.7   2.3   1.36  1.63  1.73  2.74  5.14  3.75  2.61  4.5   1.61\n",
      " 10.    3.16  5.15  3.11  3.55  3.68  5.65  6.5   4.19  2.56  2.02  1.44\n",
      "  3.41  5.16  9.    1.1   3.09  1.92  1.58  2.72  2.88  3.39  1.47  1.17\n",
      "  4.67  5.92  1.75]\n",
      "sex :  ['Female' 'Male']\n",
      "smoker :  ['No' 'Yes']\n",
      "day :  ['Sun' 'Sat' 'Thur' 'Fri']\n",
      "time :  ['Dinner' 'Lunch']\n",
      "size :  [2 3 4 1 6 5]\n"
     ]
    }
   ],
   "source": [
    "# Iterate through all columns, and get the unique values in each columns\n",
    "for column in tips.columns:\n",
    "    print(column, \": \", tips[column].unique())"
   ]
  },
  {
   "cell_type": "markdown",
   "id": "0112d99e-3880-429a-a913-3f84ecdcdb1d",
   "metadata": {},
   "source": [
    "### Encoding"
   ]
  },
  {
   "cell_type": "code",
   "execution_count": 135,
   "id": "9ce45906-6922-46ed-be45-fe595ea09311",
   "metadata": {
    "tags": []
   },
   "outputs": [
    {
     "data": {
      "text/html": [
       "<div>\n",
       "<style scoped>\n",
       "    .dataframe tbody tr th:only-of-type {\n",
       "        vertical-align: middle;\n",
       "    }\n",
       "\n",
       "    .dataframe tbody tr th {\n",
       "        vertical-align: top;\n",
       "    }\n",
       "\n",
       "    .dataframe thead th {\n",
       "        text-align: right;\n",
       "    }\n",
       "</style>\n",
       "<table border=\"1\" class=\"dataframe\">\n",
       "  <thead>\n",
       "    <tr style=\"text-align: right;\">\n",
       "      <th></th>\n",
       "      <th>total_bill</th>\n",
       "      <th>tip</th>\n",
       "      <th>sex</th>\n",
       "      <th>smoker</th>\n",
       "      <th>day</th>\n",
       "      <th>time</th>\n",
       "      <th>size</th>\n",
       "    </tr>\n",
       "  </thead>\n",
       "  <tbody>\n",
       "    <tr>\n",
       "      <th>0</th>\n",
       "      <td>16.99</td>\n",
       "      <td>1.01</td>\n",
       "      <td>0</td>\n",
       "      <td>0</td>\n",
       "      <td>3</td>\n",
       "      <td>1</td>\n",
       "      <td>2</td>\n",
       "    </tr>\n",
       "    <tr>\n",
       "      <th>1</th>\n",
       "      <td>10.34</td>\n",
       "      <td>1.66</td>\n",
       "      <td>1</td>\n",
       "      <td>0</td>\n",
       "      <td>3</td>\n",
       "      <td>1</td>\n",
       "      <td>3</td>\n",
       "    </tr>\n",
       "    <tr>\n",
       "      <th>2</th>\n",
       "      <td>21.01</td>\n",
       "      <td>3.50</td>\n",
       "      <td>1</td>\n",
       "      <td>0</td>\n",
       "      <td>3</td>\n",
       "      <td>1</td>\n",
       "      <td>3</td>\n",
       "    </tr>\n",
       "    <tr>\n",
       "      <th>3</th>\n",
       "      <td>23.68</td>\n",
       "      <td>3.31</td>\n",
       "      <td>1</td>\n",
       "      <td>0</td>\n",
       "      <td>3</td>\n",
       "      <td>1</td>\n",
       "      <td>2</td>\n",
       "    </tr>\n",
       "    <tr>\n",
       "      <th>4</th>\n",
       "      <td>24.59</td>\n",
       "      <td>3.61</td>\n",
       "      <td>0</td>\n",
       "      <td>0</td>\n",
       "      <td>3</td>\n",
       "      <td>1</td>\n",
       "      <td>4</td>\n",
       "    </tr>\n",
       "  </tbody>\n",
       "</table>\n",
       "</div>"
      ],
      "text/plain": [
       "   total_bill   tip  sex  smoker  day  time  size\n",
       "0       16.99  1.01    0       0    3     1     2\n",
       "1       10.34  1.66    1       0    3     1     3\n",
       "2       21.01  3.50    1       0    3     1     3\n",
       "3       23.68  3.31    1       0    3     1     2\n",
       "4       24.59  3.61    0       0    3     1     4"
      ]
     },
     "execution_count": 135,
     "metadata": {},
     "output_type": "execute_result"
    }
   ],
   "source": [
    "# Categorical encoding: mapping\n",
    "tips[\"sex\"] = tips[\"sex\"].map({\"Female\": 0, \"Male\": 1})\n",
    "tips[\"smoker\"] = tips[\"smoker\"].map({\"No\": 0, \"Yes\": 1})\n",
    "tips[\"day\"] = tips[\"day\"].map({\"Thur\": 0, \"Fri\": 1, \"Sat\": 2, \"Sun\": 3})\n",
    "tips[\"time\"] = tips[\"time\"].map({\"Lunch\": 0, \"Dinner\": 1})\n",
    "tips.head()"
   ]
  },
  {
   "cell_type": "markdown",
   "id": "12b6d80e-6d27-46d6-8ff0-0c269b460f6f",
   "metadata": {},
   "source": [
    "### **Split dataset to X and Y variables**"
   ]
  },
  {
   "cell_type": "code",
   "execution_count": 138,
   "id": "8e47eb33-0cd5-4e31-b7cf-69825d6a0296",
   "metadata": {
    "tags": []
   },
   "outputs": [
    {
     "data": {
      "text/plain": [
       "0      1.01\n",
       "1      1.66\n",
       "2      3.50\n",
       "3      3.31\n",
       "4      3.61\n",
       "       ... \n",
       "239    5.92\n",
       "240    2.00\n",
       "241    2.00\n",
       "242    1.75\n",
       "243    3.00\n",
       "Name: tip, Length: 244, dtype: float64"
      ]
     },
     "execution_count": 138,
     "metadata": {},
     "output_type": "execute_result"
    }
   ],
   "source": [
    "# Target variable to predict\n",
    "Y = tips.tip\n",
    "Y"
   ]
  },
  {
   "cell_type": "code",
   "execution_count": 140,
   "id": "6983d073-880d-412f-a03a-7e3206161a70",
   "metadata": {
    "tags": []
   },
   "outputs": [
    {
     "data": {
      "text/html": [
       "<div>\n",
       "<style scoped>\n",
       "    .dataframe tbody tr th:only-of-type {\n",
       "        vertical-align: middle;\n",
       "    }\n",
       "\n",
       "    .dataframe tbody tr th {\n",
       "        vertical-align: top;\n",
       "    }\n",
       "\n",
       "    .dataframe thead th {\n",
       "        text-align: right;\n",
       "    }\n",
       "</style>\n",
       "<table border=\"1\" class=\"dataframe\">\n",
       "  <thead>\n",
       "    <tr style=\"text-align: right;\">\n",
       "      <th></th>\n",
       "      <th>total_bill</th>\n",
       "      <th>sex</th>\n",
       "      <th>smoker</th>\n",
       "      <th>day</th>\n",
       "      <th>time</th>\n",
       "      <th>size</th>\n",
       "    </tr>\n",
       "  </thead>\n",
       "  <tbody>\n",
       "    <tr>\n",
       "      <th>0</th>\n",
       "      <td>16.99</td>\n",
       "      <td>0</td>\n",
       "      <td>0</td>\n",
       "      <td>3</td>\n",
       "      <td>1</td>\n",
       "      <td>2</td>\n",
       "    </tr>\n",
       "    <tr>\n",
       "      <th>1</th>\n",
       "      <td>10.34</td>\n",
       "      <td>1</td>\n",
       "      <td>0</td>\n",
       "      <td>3</td>\n",
       "      <td>1</td>\n",
       "      <td>3</td>\n",
       "    </tr>\n",
       "    <tr>\n",
       "      <th>2</th>\n",
       "      <td>21.01</td>\n",
       "      <td>1</td>\n",
       "      <td>0</td>\n",
       "      <td>3</td>\n",
       "      <td>1</td>\n",
       "      <td>3</td>\n",
       "    </tr>\n",
       "    <tr>\n",
       "      <th>3</th>\n",
       "      <td>23.68</td>\n",
       "      <td>1</td>\n",
       "      <td>0</td>\n",
       "      <td>3</td>\n",
       "      <td>1</td>\n",
       "      <td>2</td>\n",
       "    </tr>\n",
       "    <tr>\n",
       "      <th>4</th>\n",
       "      <td>24.59</td>\n",
       "      <td>0</td>\n",
       "      <td>0</td>\n",
       "      <td>3</td>\n",
       "      <td>1</td>\n",
       "      <td>4</td>\n",
       "    </tr>\n",
       "    <tr>\n",
       "      <th>...</th>\n",
       "      <td>...</td>\n",
       "      <td>...</td>\n",
       "      <td>...</td>\n",
       "      <td>...</td>\n",
       "      <td>...</td>\n",
       "      <td>...</td>\n",
       "    </tr>\n",
       "    <tr>\n",
       "      <th>239</th>\n",
       "      <td>29.03</td>\n",
       "      <td>1</td>\n",
       "      <td>0</td>\n",
       "      <td>2</td>\n",
       "      <td>1</td>\n",
       "      <td>3</td>\n",
       "    </tr>\n",
       "    <tr>\n",
       "      <th>240</th>\n",
       "      <td>27.18</td>\n",
       "      <td>0</td>\n",
       "      <td>1</td>\n",
       "      <td>2</td>\n",
       "      <td>1</td>\n",
       "      <td>2</td>\n",
       "    </tr>\n",
       "    <tr>\n",
       "      <th>241</th>\n",
       "      <td>22.67</td>\n",
       "      <td>1</td>\n",
       "      <td>1</td>\n",
       "      <td>2</td>\n",
       "      <td>1</td>\n",
       "      <td>2</td>\n",
       "    </tr>\n",
       "    <tr>\n",
       "      <th>242</th>\n",
       "      <td>17.82</td>\n",
       "      <td>1</td>\n",
       "      <td>0</td>\n",
       "      <td>2</td>\n",
       "      <td>1</td>\n",
       "      <td>2</td>\n",
       "    </tr>\n",
       "    <tr>\n",
       "      <th>243</th>\n",
       "      <td>18.78</td>\n",
       "      <td>0</td>\n",
       "      <td>0</td>\n",
       "      <td>0</td>\n",
       "      <td>1</td>\n",
       "      <td>2</td>\n",
       "    </tr>\n",
       "  </tbody>\n",
       "</table>\n",
       "<p>244 rows × 6 columns</p>\n",
       "</div>"
      ],
      "text/plain": [
       "     total_bill  sex  smoker  day  time  size\n",
       "0         16.99    0       0    3     1     2\n",
       "1         10.34    1       0    3     1     3\n",
       "2         21.01    1       0    3     1     3\n",
       "3         23.68    1       0    3     1     2\n",
       "4         24.59    0       0    3     1     4\n",
       "..          ...  ...     ...  ...   ...   ...\n",
       "239       29.03    1       0    2     1     3\n",
       "240       27.18    0       1    2     1     2\n",
       "241       22.67    1       1    2     1     2\n",
       "242       17.82    1       0    2     1     2\n",
       "243       18.78    0       0    0     1     2\n",
       "\n",
       "[244 rows x 6 columns]"
      ]
     },
     "execution_count": 140,
     "metadata": {},
     "output_type": "execute_result"
    }
   ],
   "source": [
    "# Attributes used by the model to make predictions.\n",
    "X = tips.drop(['tip'], axis=1) # Instructing pandas to look for a column to drop\n",
    "X"
   ]
  },
  {
   "cell_type": "markdown",
   "id": "14fd6ddc-be57-4192-adda-f0d539d89c7d",
   "metadata": {},
   "source": [
    "## **Data split**"
   ]
  },
  {
   "cell_type": "code",
   "execution_count": 143,
   "id": "f3273638-ae2b-4a3b-98da-9bf833518516",
   "metadata": {
    "tags": []
   },
   "outputs": [],
   "source": [
    "from sklearn.model_selection import train_test_split"
   ]
  },
  {
   "cell_type": "markdown",
   "id": "610534c1-1e5c-465d-8a53-6b2158185251",
   "metadata": {
    "tags": []
   },
   "source": [
    "### **Perform 80/20 Data split**"
   ]
  },
  {
   "cell_type": "code",
   "execution_count": 146,
   "id": "aa7114cb-28db-41b9-ba5c-42945c3e10c1",
   "metadata": {
    "tags": []
   },
   "outputs": [],
   "source": [
    "X_train, X_test, Y_train, Y_test = train_test_split(X, Y, test_size=0.2) # Train 0.8 / Test 0.2"
   ]
  },
  {
   "cell_type": "markdown",
   "id": "f975ee6c-00fe-4ce8-bc8d-943f832a6afe",
   "metadata": {},
   "source": [
    "### **Check Data dimension**"
   ]
  },
  {
   "cell_type": "code",
   "execution_count": 149,
   "id": "78ff1b62-e43b-4383-9377-3d12ad685009",
   "metadata": {
    "tags": []
   },
   "outputs": [
    {
     "data": {
      "text/plain": [
       "((195, 6), (195,))"
      ]
     },
     "execution_count": 149,
     "metadata": {},
     "output_type": "execute_result"
    }
   ],
   "source": [
    "X_train.shape, Y_train.shape"
   ]
  },
  {
   "cell_type": "code",
   "execution_count": 151,
   "id": "daef1621-8ad1-4182-a8fa-eac47828aff1",
   "metadata": {
    "tags": []
   },
   "outputs": [
    {
     "data": {
      "text/plain": [
       "((49, 6), (49,))"
      ]
     },
     "execution_count": 151,
     "metadata": {},
     "output_type": "execute_result"
    }
   ],
   "source": [
    "X_test.shape, Y_test.shape"
   ]
  },
  {
   "cell_type": "markdown",
   "id": "be37c840-54d8-4f01-80a0-b015e9edc5cd",
   "metadata": {},
   "source": [
    "## **Linear Regression Model**"
   ]
  },
  {
   "cell_type": "code",
   "execution_count": 154,
   "id": "f1580f8b-444e-4840-9818-b2ac63ae5369",
   "metadata": {
    "tags": []
   },
   "outputs": [],
   "source": [
    "from sklearn import linear_model\n",
    "from sklearn.metrics import mean_squared_error, r2_score"
   ]
  },
  {
   "cell_type": "markdown",
   "id": "08bbf7b2-d5fa-4180-a1b1-df28c8067276",
   "metadata": {
    "tags": []
   },
   "source": [
    "### **Build linear regression**"
   ]
  },
  {
   "cell_type": "markdown",
   "id": "43bd7763-1eb4-44ed-a2b3-fcaafbb97da6",
   "metadata": {},
   "source": [
    "#### Defines the regression model"
   ]
  },
  {
   "cell_type": "code",
   "execution_count": 158,
   "id": "7da5e0c2-e738-439b-afd7-acd7de509ddc",
   "metadata": {
    "tags": []
   },
   "outputs": [],
   "source": [
    "model = linear_model.LinearRegression()"
   ]
  },
  {
   "cell_type": "markdown",
   "id": "9cc7ed3c-52a1-4099-a455-0510856b0858",
   "metadata": {},
   "source": [
    "#### Build training model"
   ]
  },
  {
   "cell_type": "code",
   "execution_count": 161,
   "id": "2cd48f5f-b0fe-44c9-b389-437af82817d3",
   "metadata": {
    "tags": []
   },
   "outputs": [
    {
     "data": {
      "text/html": [
       "<style>#sk-container-id-1 {color: black;}#sk-container-id-1 pre{padding: 0;}#sk-container-id-1 div.sk-toggleable {background-color: white;}#sk-container-id-1 label.sk-toggleable__label {cursor: pointer;display: block;width: 100%;margin-bottom: 0;padding: 0.3em;box-sizing: border-box;text-align: center;}#sk-container-id-1 label.sk-toggleable__label-arrow:before {content: \"▸\";float: left;margin-right: 0.25em;color: #696969;}#sk-container-id-1 label.sk-toggleable__label-arrow:hover:before {color: black;}#sk-container-id-1 div.sk-estimator:hover label.sk-toggleable__label-arrow:before {color: black;}#sk-container-id-1 div.sk-toggleable__content {max-height: 0;max-width: 0;overflow: hidden;text-align: left;background-color: #f0f8ff;}#sk-container-id-1 div.sk-toggleable__content pre {margin: 0.2em;color: black;border-radius: 0.25em;background-color: #f0f8ff;}#sk-container-id-1 input.sk-toggleable__control:checked~div.sk-toggleable__content {max-height: 200px;max-width: 100%;overflow: auto;}#sk-container-id-1 input.sk-toggleable__control:checked~label.sk-toggleable__label-arrow:before {content: \"▾\";}#sk-container-id-1 div.sk-estimator input.sk-toggleable__control:checked~label.sk-toggleable__label {background-color: #d4ebff;}#sk-container-id-1 div.sk-label input.sk-toggleable__control:checked~label.sk-toggleable__label {background-color: #d4ebff;}#sk-container-id-1 input.sk-hidden--visually {border: 0;clip: rect(1px 1px 1px 1px);clip: rect(1px, 1px, 1px, 1px);height: 1px;margin: -1px;overflow: hidden;padding: 0;position: absolute;width: 1px;}#sk-container-id-1 div.sk-estimator {font-family: monospace;background-color: #f0f8ff;border: 1px dotted black;border-radius: 0.25em;box-sizing: border-box;margin-bottom: 0.5em;}#sk-container-id-1 div.sk-estimator:hover {background-color: #d4ebff;}#sk-container-id-1 div.sk-parallel-item::after {content: \"\";width: 100%;border-bottom: 1px solid gray;flex-grow: 1;}#sk-container-id-1 div.sk-label:hover label.sk-toggleable__label {background-color: #d4ebff;}#sk-container-id-1 div.sk-serial::before {content: \"\";position: absolute;border-left: 1px solid gray;box-sizing: border-box;top: 0;bottom: 0;left: 50%;z-index: 0;}#sk-container-id-1 div.sk-serial {display: flex;flex-direction: column;align-items: center;background-color: white;padding-right: 0.2em;padding-left: 0.2em;position: relative;}#sk-container-id-1 div.sk-item {position: relative;z-index: 1;}#sk-container-id-1 div.sk-parallel {display: flex;align-items: stretch;justify-content: center;background-color: white;position: relative;}#sk-container-id-1 div.sk-item::before, #sk-container-id-1 div.sk-parallel-item::before {content: \"\";position: absolute;border-left: 1px solid gray;box-sizing: border-box;top: 0;bottom: 0;left: 50%;z-index: -1;}#sk-container-id-1 div.sk-parallel-item {display: flex;flex-direction: column;z-index: 1;position: relative;background-color: white;}#sk-container-id-1 div.sk-parallel-item:first-child::after {align-self: flex-end;width: 50%;}#sk-container-id-1 div.sk-parallel-item:last-child::after {align-self: flex-start;width: 50%;}#sk-container-id-1 div.sk-parallel-item:only-child::after {width: 0;}#sk-container-id-1 div.sk-dashed-wrapped {border: 1px dashed gray;margin: 0 0.4em 0.5em 0.4em;box-sizing: border-box;padding-bottom: 0.4em;background-color: white;}#sk-container-id-1 div.sk-label label {font-family: monospace;font-weight: bold;display: inline-block;line-height: 1.2em;}#sk-container-id-1 div.sk-label-container {text-align: center;}#sk-container-id-1 div.sk-container {/* jupyter's `normalize.less` sets `[hidden] { display: none; }` but bootstrap.min.css set `[hidden] { display: none !important; }` so we also need the `!important` here to be able to override the default hidden behavior on the sphinx rendered scikit-learn.org. See: https://github.com/scikit-learn/scikit-learn/issues/21755 */display: inline-block !important;position: relative;}#sk-container-id-1 div.sk-text-repr-fallback {display: none;}</style><div id=\"sk-container-id-1\" class=\"sk-top-container\"><div class=\"sk-text-repr-fallback\"><pre>LinearRegression()</pre><b>In a Jupyter environment, please rerun this cell to show the HTML representation or trust the notebook. <br />On GitHub, the HTML representation is unable to render, please try loading this page with nbviewer.org.</b></div><div class=\"sk-container\" hidden><div class=\"sk-item\"><div class=\"sk-estimator sk-toggleable\"><input class=\"sk-toggleable__control sk-hidden--visually\" id=\"sk-estimator-id-1\" type=\"checkbox\" checked><label for=\"sk-estimator-id-1\" class=\"sk-toggleable__label sk-toggleable__label-arrow\">LinearRegression</label><div class=\"sk-toggleable__content\"><pre>LinearRegression()</pre></div></div></div></div></div>"
      ],
      "text/plain": [
       "LinearRegression()"
      ]
     },
     "execution_count": 161,
     "metadata": {},
     "output_type": "execute_result"
    }
   ],
   "source": [
    "model.fit(X_train, Y_train)"
   ]
  },
  {
   "cell_type": "markdown",
   "id": "ce693dc0-7698-4663-8a2f-dc08d3f611da",
   "metadata": {},
   "source": [
    "#### Apply trained model to make prediction (on test set)"
   ]
  },
  {
   "cell_type": "code",
   "execution_count": 164,
   "id": "408ef6bf-de1e-419b-98df-5e49c56a340c",
   "metadata": {
    "tags": []
   },
   "outputs": [],
   "source": [
    "Y_pred = model.predict(X_test)"
   ]
  },
  {
   "cell_type": "markdown",
   "id": "2a8e2ebb-5896-4dd6-afd8-f5ef31845194",
   "metadata": {},
   "source": [
    "## **Prediction results**"
   ]
  },
  {
   "cell_type": "markdown",
   "id": "ddbc9226-9ee9-4ea7-ad39-a8bd5462777f",
   "metadata": {},
   "source": [
    "### **Print model performance**"
   ]
  },
  {
   "cell_type": "code",
   "execution_count": 167,
   "id": "b69f7501-7236-4fb4-be9f-995f38acd927",
   "metadata": {
    "tags": []
   },
   "outputs": [
    {
     "name": "stdout",
     "output_type": "stream",
     "text": [
      "Coefficients: [ 0.10315662 -0.06757075 -0.07470084  0.0119475  -0.04259335  0.06761825]\n",
      "Intercept: 0.8811623610834229\n",
      "Mean squared error (MSE): 1.13\n",
      "Coefficient of determination (R^2): 0.43\n"
     ]
    }
   ],
   "source": [
    "print('Coefficients:', model.coef_)\n",
    "print('Intercept:', model.intercept_)\n",
    "print('Mean squared error (MSE): %.2f'\n",
    "      % mean_squared_error(Y_test, Y_pred))\n",
    "print('Coefficient of determination (R^2): %.2f'\n",
    "      % r2_score(Y_test, Y_pred))"
   ]
  },
  {
   "cell_type": "markdown",
   "id": "ff674512-26b0-44f3-971e-176cbc4210e8",
   "metadata": {},
   "source": [
    "### Show the Linear Regression fomula"
   ]
  },
  {
   "cell_type": "code",
   "execution_count": 192,
   "id": "e2605c67-1c94-4623-b0e3-1ee1b6ed2f48",
   "metadata": {
    "tags": []
   },
   "outputs": [
    {
     "data": {
      "text/plain": [
       "['total_bill', 'sex', 'smoker', 'day', 'time', 'size']"
      ]
     },
     "execution_count": 192,
     "metadata": {},
     "output_type": "execute_result"
    }
   ],
   "source": [
    "X_list = list(X.columns)\n",
    "X_list"
   ]
  },
  {
   "cell_type": "code",
   "execution_count": 196,
   "id": "b25e9351-0dce-415c-9f86-f87615e8f7d4",
   "metadata": {
    "tags": []
   },
   "outputs": [
    {
     "name": "stdout",
     "output_type": "stream",
     "text": [
      "{'total_bill': 0.1031566162851964, 'sex': -0.0675707485223106, 'smoker': -0.07470084051074988, 'day': 0.011947499634934898, 'time': -0.04259334530700059, 'size': 0.0676182453278689}\n"
     ]
    }
   ],
   "source": [
    "Coef_dict = dict(zip(X_list, model.coef_))\n",
    "print(Coef_dict)"
   ]
  },
  {
   "cell_type": "code",
   "execution_count": 232,
   "id": "05565565-d803-41d4-880d-8948126fe92c",
   "metadata": {
    "tags": []
   },
   "outputs": [
    {
     "name": "stdout",
     "output_type": "stream",
     "text": [
      "tip =\n",
      "0.1 * total_bill\n",
      "-0.07 * sex\n",
      "-0.07 * smoker\n",
      "0.01 * day\n",
      "-0.04 * time\n",
      "0.07 * size\n",
      "+ 0.8811623610834229\n"
     ]
    }
   ],
   "source": [
    "print(f\"{Y.name} =\")\n",
    "for key, value in dictionary.items():\n",
    "    print(f\"{round(value, 2)} * {key}\")\n",
    "print(f\"+ {model.intercept_}\")"
   ]
  },
  {
   "cell_type": "markdown",
   "id": "36d0c0cf-6076-4759-846b-8e8342fa05fd",
   "metadata": {},
   "source": [
    "## **Scatter plots**"
   ]
  },
  {
   "cell_type": "code",
   "execution_count": 286,
   "id": "4d8edee0-7f1a-484d-955f-f9b60e772513",
   "metadata": {
    "tags": []
   },
   "outputs": [],
   "source": [
    "import seaborn as sns\n",
    "import matplotlib.pyplot as plt"
   ]
  },
  {
   "cell_type": "markdown",
   "id": "64e1fc36-d690-4970-9d2f-c9b03be894ae",
   "metadata": {},
   "source": [
    "### Make Scatter plot"
   ]
  },
  {
   "cell_type": "markdown",
   "id": "d08e5646-6491-4ad0-bf17-9038a8a638fe",
   "metadata": {},
   "source": [
    "#### The Data"
   ]
  },
  {
   "cell_type": "code",
   "execution_count": 246,
   "id": "60bd778b-7e3e-416a-88a7-abb64d35b221",
   "metadata": {
    "tags": []
   },
   "outputs": [
    {
     "data": {
      "text/plain": [
       "242    1.75\n",
       "22     2.23\n",
       "238    4.67\n",
       "25     2.34\n",
       "116    5.07\n",
       "165    3.48\n",
       "84     2.03\n",
       "164    3.00\n",
       "98     3.00\n",
       "68     2.01\n",
       "136    2.00\n",
       "78     3.00\n",
       "183    6.50\n",
       "21     2.75\n",
       "60     3.21\n",
       "193    2.02\n",
       "144    2.30\n",
       "186    3.50\n",
       "169    2.00\n",
       "142    5.00\n",
       "43     1.32\n",
       "175    3.11\n",
       "240    2.00\n",
       "158    2.61\n",
       "173    3.18\n",
       "101    3.00\n",
       "174    4.00\n",
       "103    3.48\n",
       "234    3.00\n",
       "133    2.00\n",
       "102    2.50\n",
       "212    9.00\n",
       "50     2.50\n",
       "35     3.60\n",
       "44     5.60\n",
       "37     3.07\n",
       "79     2.71\n",
       "100    2.50\n",
       "65     3.15\n",
       "104    4.08\n",
       "222    1.92\n",
       "176    2.00\n",
       "99     1.50\n",
       "140    3.50\n",
       "82     1.83\n",
       "168    1.61\n",
       "134    3.25\n",
       "135    1.25\n",
       "237    1.17\n",
       "Name: tip, dtype: float64"
      ]
     },
     "execution_count": 246,
     "metadata": {},
     "output_type": "execute_result"
    }
   ],
   "source": [
    "Y_test"
   ]
  },
  {
   "cell_type": "code",
   "execution_count": 263,
   "id": "7d934222-5def-4bd6-bcb1-18b884e2a8b2",
   "metadata": {
    "tags": []
   },
   "outputs": [
    {
     "data": {
      "text/plain": [
       "array([1.75, 2.23, 4.67, 2.34, 5.07, 3.48, 2.03, 3.  , 3.  , 2.01, 2.  ,\n",
       "       3.  , 6.5 , 2.75, 3.21, 2.02, 2.3 , 3.5 , 2.  , 5.  , 1.32, 3.11,\n",
       "       2.  , 2.61, 3.18, 3.  , 4.  , 3.48, 3.  , 2.  , 2.5 , 9.  , 2.5 ,\n",
       "       3.6 , 5.6 , 3.07, 2.71, 2.5 , 3.15, 4.08, 1.92, 2.  , 1.5 , 3.5 ,\n",
       "       1.83, 1.61, 3.25, 1.25, 1.17])"
      ]
     },
     "execution_count": 263,
     "metadata": {},
     "output_type": "execute_result"
    }
   ],
   "source": [
    "import numpy as np\n",
    "np.array(Y_test)"
   ]
  },
  {
   "cell_type": "code",
   "execution_count": 265,
   "id": "a1a15f29-b70d-4ded-8363-2cf2db9901f1",
   "metadata": {
    "tags": []
   },
   "outputs": [
    {
     "data": {
      "text/plain": [
       "array([2.76838066, 2.62448034, 4.76142031, 2.90258558, 4.16479127,\n",
       "       3.53909573, 2.59727083, 2.74121952, 3.01080193, 3.0169881 ,\n",
       "       2.0820067 , 3.29667269, 3.39275171, 3.09074825, 2.94847666,\n",
       "       2.47099168, 2.71126206, 3.15853869, 2.0195545 , 5.40070386,\n",
       "       1.9406333 , 4.26122909, 3.7267965 , 2.3909151 , 4.15291464,\n",
       "       2.49760092, 2.6024707 , 3.235771  , 2.45745117, 2.28109897,\n",
       "       5.56045601, 6.05092551, 2.23566123, 3.47969619, 4.21327488,\n",
       "       2.81176026, 2.732406  , 2.08187976, 3.06913286, 3.15573692,\n",
       "       1.70354028, 2.71284828, 2.2035137 , 2.81854494, 1.98756773,\n",
       "       2.01542823, 2.90003867, 1.89426166, 4.24206063])"
      ]
     },
     "execution_count": 265,
     "metadata": {},
     "output_type": "execute_result"
    }
   ],
   "source": [
    "Y_pred"
   ]
  },
  {
   "cell_type": "markdown",
   "id": "dfc075b0-94a0-4bd1-b601-a42f17903bd2",
   "metadata": {},
   "source": [
    "#### Show scatter plot"
   ]
  },
  {
   "cell_type": "code",
   "execution_count": 288,
   "id": "734ff997-9c42-4545-8fcd-d9aa677aefaf",
   "metadata": {
    "tags": []
   },
   "outputs": [
    {
     "data": {
      "image/png": "[encoded data removed]",
      "text/plain": [
       "<Figure size 640x480 with 1 Axes>"
      ]
     },
     "metadata": {},
     "output_type": "display_data"
    }
   ],
   "source": [
    "sns.scatterplot(x=Y_test, y=Y_pred, alpha=0.5) # Make the marker transaprent as 0.5\n",
    "plt.xlabel('Tip: Testing data')\n",
    "plt.ylabel('Tip: Predicting data')\n",
    "plt.show()"
   ]
  }
 ],
 "metadata": {
  "kernelspec": {
   "display_name": "Python 3 (ipykernel)",
   "language": "python",
   "name": "python3"
  },
  "language_info": {
   "codemirror_mode": {
    "name": "ipython",
    "version": 3
   },
   "file_extension": ".py",
   "mimetype": "text/x-python",
   "name": "python",
   "nbconvert_exporter": "python",
   "pygments_lexer": "ipython3",
   "version": "3.11.5"
  }
 },
 "nbformat": 4,
 "nbformat_minor": 5
}
